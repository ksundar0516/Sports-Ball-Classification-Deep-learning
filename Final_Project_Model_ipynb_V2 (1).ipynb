{
  "cells": [
    {
      "cell_type": "code",
      "execution_count": 1,
      "id": "ced33a41",
      "metadata": {
        "id": "ced33a41"
      },
      "outputs": [],
      "source": [
        "import torch\n",
        "import torch.nn as nn\n",
        "import sys\n",
        "import time\n",
        "from typing import Union, List, Dict, Any, cast\n",
        "from torch.nn import init\n",
        "import torchvision\n",
        "import torchvision.transforms as transforms\n",
        "import numpy as np\n",
        "import torch.nn.functional as F\n",
        "from torch import optim\n",
        "from torch.autograd import Variable\n",
        "from torch.utils.data import DataLoader\n",
        "import numpy as np\n",
        "from tqdm import tqdm"
      ]
    },
    {
      "cell_type": "markdown",
      "source": [
        "For google collab purposes"
      ],
      "metadata": {
        "id": "N1MKDYlm-MzQ"
      },
      "id": "N1MKDYlm-MzQ"
    },
    {
      "cell_type": "code",
      "execution_count": 2,
      "id": "RNHGXy4aVeVj",
      "metadata": {
        "id": "RNHGXy4aVeVj",
        "colab": {
          "base_uri": "https://localhost:8080/"
        },
        "outputId": "e36bcd37-86a1-4391-930d-d8b9bfefe2c9"
      },
      "outputs": [
        {
          "output_type": "stream",
          "name": "stdout",
          "text": [
            "Mounted at /content/drive\n"
          ]
        }
      ],
      "source": [
        "from google.colab import drive\n",
        "drive.mount('/content/drive')"
      ]
    },
    {
      "cell_type": "markdown",
      "source": [
        "Go to this link for data: https://www.kaggle.com/datasets/samuelcortinhas/sports-balls-multiclass-image-classification, in my case zip is called archive, and folders within are train and test."
      ],
      "metadata": {
        "id": "CD0tBDlRBFOq"
      },
      "id": "CD0tBDlRBFOq"
    },
    {
      "cell_type": "markdown",
      "source": [
        "Change root to proper train and test folders"
      ],
      "metadata": {
        "id": "vzYCIYgc-TZp"
      },
      "id": "vzYCIYgc-TZp"
    },
    {
      "cell_type": "code",
      "execution_count": 3,
      "id": "25afddbc",
      "metadata": {
        "id": "25afddbc"
      },
      "outputs": [],
      "source": [
        "transform = transforms.Compose([\n",
        "    transforms.Resize((224, 224)),\n",
        "    transforms.ToTensor(),\n",
        "    transforms.Normalize((0.485, 0.456, 0.406), (0.229, 0.224, 0.225))\n",
        "])\n",
        "\n",
        "\n",
        "trainset = torchvision.datasets.ImageFolder(root='/content/drive/My Drive/archive/train', transform=transform)\n",
        "testset = torchvision.datasets.ImageFolder(root='/content/drive/My Drive/archive/test', transform=transform)\n",
        "\n",
        "trainloader = DataLoader(trainset, batch_size=64, shuffle=True, num_workers = 12)\n",
        "testloader = DataLoader(testset, batch_size=64, shuffle=False, num_workers = 12)"
      ]
    },
    {
      "cell_type": "markdown",
      "source": [
        "Model with attention"
      ],
      "metadata": {
        "id": "a5vfjRCc-axj"
      },
      "id": "a5vfjRCc-axj"
    },
    {
      "cell_type": "code",
      "execution_count": 4,
      "id": "1516541e",
      "metadata": {
        "id": "1516541e"
      },
      "outputs": [],
      "source": [
        "def vgg_block(num_convs, in_channels, num_channels):\n",
        "    layers = []\n",
        "    for _ in range(num_convs):\n",
        "        layers += [nn.Conv2d(in_channels=in_channels, out_channels=num_channels, kernel_size=3, padding=1)]\n",
        "        in_channels = num_channels\n",
        "    layers += [nn.BatchNorm2d(num_channels), nn.ReLU(), nn.MaxPool2d(kernel_size=2, stride=2)]\n",
        "    return nn.Sequential(*layers)\n",
        "class AttentionModule(nn.Module):\n",
        "    def __init__(self, in_channels):\n",
        "        super(AttentionModule, self).__init__()\n",
        "        self.conv1 = nn.Conv2d(in_channels, 1, kernel_size=1)  # Convert to a single channel\n",
        "        self.softmax = nn.Softmax(dim=-1)  # Apply softmax along a specified dimension\n",
        "\n",
        "\n",
        "    def forward(self, x):\n",
        "        att_weights = self.softmax(self.conv1(x).view(x.size(0), -1))  # Flatten, then apply softmax\n",
        "        att_weights = att_weights.view(x.size(0), 1, x.size(2), x.size(3))  # Reshape back to 4D tensor\n",
        "        return att_weights * x  # Apply attention weights to the original tensor\n",
        "\n",
        "\n",
        "class Net(nn.Module):\n",
        "    def __init__(self):\n",
        "        super(Net, self).__init__()\n",
        "        self.conv_arch = ((2, 3, 64), (2, 64, 128), (2, 128, 256), (3, 256, 512), (3, 512, 512))\n",
        "        layers = []\n",
        "\n",
        "\n",
        "        for (num_convs, in_channels, num_channels) in self.conv_arch:\n",
        "            layers += [vgg_block(num_convs, in_channels, num_channels)]\n",
        "\n",
        "\n",
        "        self.features = nn.Sequential(*layers)\n",
        "\n",
        "        self.attention = AttentionModule(512)\n",
        "\n",
        "\n",
        "\n",
        "\n",
        "\n",
        "\n",
        "\n",
        "        self.dense1 = nn.Linear(512 * 7 * 7, 4096)\n",
        "        self.drop1 = nn.Dropout(0.5)\n",
        "        self.dense2 = nn.Linear(4096, 4096)\n",
        "        self.drop2 = nn.Dropout(0.5)\n",
        "        self.dense3 = nn.Linear(4096, 15)\n",
        "\n",
        "\n",
        "    def forward(self, x):\n",
        "        x = self.features(x)\n",
        "\n",
        "\n",
        "        x = self.attention(x)\n",
        "\n",
        "\n",
        "        x = x.view(-1, 512 * 7 * 7)  # Flatten before dense layers\n",
        "\n",
        "\n",
        "        # Pass through the fully connected layers\n",
        "        x = self.dense3(self.drop2(F.relu(self.dense2(self.drop1(F.relu(self.dense1(x)))))))\n",
        "        return x\n",
        "\n",
        "device = torch.device(\"cuda\" if torch.cuda.is_available() else \"cpu\")\n",
        "\n",
        "#model = Net().to(device)\n",
        "#optimizer = optim.Adam(model.parameters(), lr=0.001)\n",
        "\n",
        "def train(train_iter, test_iter, net, optimizer, device, num_epochs):\n",
        "    net.to(device)\n",
        "    print(\"training on\", device)\n",
        "    loss = nn.CrossEntropyLoss()\n",
        "    best_val_loss = float('inf')\n",
        "    patience_counter = 0\n",
        "\n",
        "    for epoch in range(num_epochs):\n",
        "        net.train()\n",
        "        train_l_sum, train_acc_sum, n = 0.0, 0.0, 0\n",
        "        for X, y in tqdm(train_iter):\n",
        "            X, y = X.to(device), y.to(device)\n",
        "            y_hat = net(X)\n",
        "            l = loss(y_hat, y)\n",
        "            optimizer.zero_grad()\n",
        "            l.backward()\n",
        "            optimizer.step()\n",
        "\n",
        "            train_l_sum += l.cpu().item()\n",
        "            train_acc_sum += (y_hat.argmax(dim=1) == y).sum().cpu().item()\n",
        "            n += y.shape[0]\n",
        "\n",
        "        train_loss = train_l_sum / n\n",
        "        train_accuracy = train_acc_sum / n\n",
        "\n",
        "\n",
        "        val_accuracy = evaluate_accuracy(test_iter, net, device)\n",
        "        print(f'Epoch {epoch + 1}, Loss: {train_loss}, Accuracy: {train_accuracy}, Val Accuracy: {val_accuracy}')\n",
        "\n",
        "def evaluate_accuracy(data_iter, net, device):\n",
        "    net.eval()\n",
        "    acc_sum, n = 0.0, 0\n",
        "    with torch.no_grad():\n",
        "        for X, y in tqdm(data_iter):\n",
        "            X, y = X.to(device), y.to(device)\n",
        "            acc_sum += (net(X).argmax(dim=1) == y).float().sum().item()\n",
        "            n += y.shape[0]\n",
        "    return acc_sum / n"
      ]
    },
    {
      "cell_type": "code",
      "execution_count": 5,
      "id": "d39754a8",
      "metadata": {
        "colab": {
          "base_uri": "https://localhost:8080/"
        },
        "id": "d39754a8",
        "outputId": "d9a7d036-b505-472f-c654-e9a44b896926"
      },
      "outputs": [
        {
          "output_type": "stream",
          "name": "stdout",
          "text": [
            "training on cuda\n"
          ]
        },
        {
          "output_type": "stream",
          "name": "stderr",
          "text": [
            "\r  0%|          | 0/116 [00:00<?, ?it/s]/usr/lib/python3.10/multiprocessing/popen_fork.py:66: RuntimeWarning: os.fork() was called. os.fork() is incompatible with multithreaded code, and JAX is multithreaded, so this will likely lead to a deadlock.\n",
            "  self.pid = os.fork()\n",
            "100%|██████████| 116/116 [09:27<00:00,  4.89s/it]\n",
            "100%|██████████| 27/27 [02:59<00:00,  6.63s/it]\n"
          ]
        },
        {
          "output_type": "stream",
          "name": "stdout",
          "text": [
            "Epoch 1, Loss: 0.0418278285517915, Accuracy: 0.0986788891884605, Val Accuracy: 0.16666666666666666\n"
          ]
        },
        {
          "output_type": "stream",
          "name": "stderr",
          "text": [
            "100%|██████████| 116/116 [00:17<00:00,  6.50it/s]\n",
            "100%|██████████| 27/27 [00:04<00:00,  6.38it/s]\n"
          ]
        },
        {
          "output_type": "stream",
          "name": "stdout",
          "text": [
            "Epoch 2, Loss: 0.03927667660351936, Accuracy: 0.17241844162847128, Val Accuracy: 0.17824074074074073\n"
          ]
        },
        {
          "output_type": "stream",
          "name": "stderr",
          "text": [
            "100%|██████████| 116/116 [00:17<00:00,  6.58it/s]\n",
            "100%|██████████| 27/27 [00:04<00:00,  6.27it/s]\n"
          ]
        },
        {
          "output_type": "stream",
          "name": "stdout",
          "text": [
            "Epoch 3, Loss: 0.03773371158953657, Accuracy: 0.20908600700997573, Val Accuracy: 0.20543981481481483\n"
          ]
        },
        {
          "output_type": "stream",
          "name": "stderr",
          "text": [
            "100%|██████████| 116/116 [00:17<00:00,  6.65it/s]\n",
            "100%|██████████| 27/27 [00:04<00:00,  5.70it/s]\n"
          ]
        },
        {
          "output_type": "stream",
          "name": "stdout",
          "text": [
            "Epoch 4, Loss: 0.03671939346018298, Accuracy: 0.23779994607710972, Val Accuracy: 0.22280092592592593\n"
          ]
        },
        {
          "output_type": "stream",
          "name": "stderr",
          "text": [
            "100%|██████████| 116/116 [00:17<00:00,  6.63it/s]\n",
            "100%|██████████| 27/27 [00:04<00:00,  6.19it/s]\n"
          ]
        },
        {
          "output_type": "stream",
          "name": "stdout",
          "text": [
            "Epoch 5, Loss: 0.035635370069129924, Accuracy: 0.25020221083850097, Val Accuracy: 0.2361111111111111\n"
          ]
        },
        {
          "output_type": "stream",
          "name": "stderr",
          "text": [
            "100%|██████████| 116/116 [00:17<00:00,  6.58it/s]\n",
            "100%|██████████| 27/27 [00:04<00:00,  6.16it/s]\n"
          ]
        },
        {
          "output_type": "stream",
          "name": "stdout",
          "text": [
            "Epoch 6, Loss: 0.034637104536073486, Accuracy: 0.27756807764896196, Val Accuracy: 0.30266203703703703\n"
          ]
        },
        {
          "output_type": "stream",
          "name": "stderr",
          "text": [
            "100%|██████████| 116/116 [00:17<00:00,  6.67it/s]\n",
            "100%|██████████| 27/27 [00:04<00:00,  5.96it/s]\n"
          ]
        },
        {
          "output_type": "stream",
          "name": "stdout",
          "text": [
            "Epoch 7, Loss: 0.0331989592636779, Accuracy: 0.312213534645457, Val Accuracy: 0.2991898148148148\n"
          ]
        },
        {
          "output_type": "stream",
          "name": "stderr",
          "text": [
            "100%|██████████| 116/116 [00:17<00:00,  6.61it/s]\n",
            "100%|██████████| 27/27 [00:04<00:00,  6.24it/s]\n"
          ]
        },
        {
          "output_type": "stream",
          "name": "stdout",
          "text": [
            "Epoch 8, Loss: 0.03198278223481516, Accuracy: 0.343219196548935, Val Accuracy: 0.29976851851851855\n"
          ]
        },
        {
          "output_type": "stream",
          "name": "stderr",
          "text": [
            "100%|██████████| 116/116 [00:17<00:00,  6.61it/s]\n",
            "100%|██████████| 27/27 [00:04<00:00,  6.20it/s]\n"
          ]
        },
        {
          "output_type": "stream",
          "name": "stdout",
          "text": [
            "Epoch 9, Loss: 0.030687300350248862, Accuracy: 0.3661364249123753, Val Accuracy: 0.35300925925925924\n"
          ]
        },
        {
          "output_type": "stream",
          "name": "stderr",
          "text": [
            "100%|██████████| 116/116 [00:17<00:00,  6.59it/s]\n",
            "100%|██████████| 27/27 [00:04<00:00,  5.82it/s]\n"
          ]
        },
        {
          "output_type": "stream",
          "name": "stdout",
          "text": [
            "Epoch 10, Loss: 0.029394955045613166, Accuracy: 0.40172553248854137, Val Accuracy: 0.36400462962962965\n"
          ]
        },
        {
          "output_type": "stream",
          "name": "stderr",
          "text": [
            "100%|██████████| 116/116 [00:17<00:00,  6.59it/s]\n",
            "100%|██████████| 27/27 [00:04<00:00,  6.21it/s]\n"
          ]
        },
        {
          "output_type": "stream",
          "name": "stdout",
          "text": [
            "Epoch 11, Loss: 0.02845320109570242, Accuracy: 0.410218387705581, Val Accuracy: 0.37789351851851855\n"
          ]
        },
        {
          "output_type": "stream",
          "name": "stderr",
          "text": [
            "100%|██████████| 116/116 [00:17<00:00,  6.51it/s]\n",
            "100%|██████████| 27/27 [00:04<00:00,  6.26it/s]\n"
          ]
        },
        {
          "output_type": "stream",
          "name": "stdout",
          "text": [
            "Epoch 12, Loss: 0.02725972434072425, Accuracy: 0.4362361822593691, Val Accuracy: 0.38483796296296297\n"
          ]
        },
        {
          "output_type": "stream",
          "name": "stderr",
          "text": [
            "100%|██████████| 116/116 [00:17<00:00,  6.63it/s]\n",
            "100%|██████████| 27/27 [00:04<00:00,  5.94it/s]\n"
          ]
        },
        {
          "output_type": "stream",
          "name": "stdout",
          "text": [
            "Epoch 13, Loss: 0.02617875479983332, Accuracy: 0.4588837961714748, Val Accuracy: 0.3854166666666667\n"
          ]
        },
        {
          "output_type": "stream",
          "name": "stderr",
          "text": [
            "100%|██████████| 116/116 [00:17<00:00,  6.64it/s]\n",
            "100%|██████████| 27/27 [00:04<00:00,  6.13it/s]\n"
          ]
        },
        {
          "output_type": "stream",
          "name": "stdout",
          "text": [
            "Epoch 14, Loss: 0.02554509168238163, Accuracy: 0.4816662173092478, Val Accuracy: 0.4230324074074074\n"
          ]
        },
        {
          "output_type": "stream",
          "name": "stderr",
          "text": [
            "100%|██████████| 116/116 [00:17<00:00,  6.55it/s]\n",
            "100%|██████████| 27/27 [00:04<00:00,  6.28it/s]\n"
          ]
        },
        {
          "output_type": "stream",
          "name": "stdout",
          "text": [
            "Epoch 15, Loss: 0.024431237235291687, Accuracy: 0.49811269884065784, Val Accuracy: 0.4201388888888889\n"
          ]
        },
        {
          "output_type": "stream",
          "name": "stderr",
          "text": [
            "100%|██████████| 116/116 [00:17<00:00,  6.62it/s]\n",
            "100%|██████████| 27/27 [00:04<00:00,  6.03it/s]\n"
          ]
        },
        {
          "output_type": "stream",
          "name": "stdout",
          "text": [
            "Epoch 16, Loss: 0.023168851693514125, Accuracy: 0.5319493124831491, Val Accuracy: 0.40914351851851855\n"
          ]
        },
        {
          "output_type": "stream",
          "name": "stderr",
          "text": [
            "100%|██████████| 116/116 [00:17<00:00,  6.62it/s]\n",
            "100%|██████████| 27/27 [00:04<00:00,  6.27it/s]\n"
          ]
        },
        {
          "output_type": "stream",
          "name": "stdout",
          "text": [
            "Epoch 17, Loss: 0.021961567978165997, Accuracy: 0.5494742518198975, Val Accuracy: 0.44849537037037035\n"
          ]
        },
        {
          "output_type": "stream",
          "name": "stderr",
          "text": [
            "100%|██████████| 116/116 [00:17<00:00,  6.56it/s]\n",
            "100%|██████████| 27/27 [00:04<00:00,  6.25it/s]\n"
          ]
        },
        {
          "output_type": "stream",
          "name": "stdout",
          "text": [
            "Epoch 18, Loss: 0.02100775385841458, Accuracy: 0.5684820706389863, Val Accuracy: 0.42476851851851855\n"
          ]
        },
        {
          "output_type": "stream",
          "name": "stderr",
          "text": [
            "100%|██████████| 116/116 [00:17<00:00,  6.59it/s]\n",
            "100%|██████████| 27/27 [00:04<00:00,  5.91it/s]\n"
          ]
        },
        {
          "output_type": "stream",
          "name": "stdout",
          "text": [
            "Epoch 19, Loss: 0.01991082619836498, Accuracy: 0.5885683472634133, Val Accuracy: 0.39351851851851855\n"
          ]
        },
        {
          "output_type": "stream",
          "name": "stderr",
          "text": [
            "100%|██████████| 116/116 [00:17<00:00,  6.56it/s]\n",
            "100%|██████████| 27/27 [00:04<00:00,  6.20it/s]\n"
          ]
        },
        {
          "output_type": "stream",
          "name": "stdout",
          "text": [
            "Epoch 20, Loss: 0.018605122583257635, Accuracy: 0.6221353464545699, Val Accuracy: 0.4519675925925926\n"
          ]
        },
        {
          "output_type": "stream",
          "name": "stderr",
          "text": [
            "100%|██████████| 116/116 [00:17<00:00,  6.56it/s]\n",
            "100%|██████████| 27/27 [00:04<00:00,  6.29it/s]\n"
          ]
        },
        {
          "output_type": "stream",
          "name": "stdout",
          "text": [
            "Epoch 21, Loss: 0.01780261175270574, Accuracy: 0.6327851172822864, Val Accuracy: 0.4195601851851852\n"
          ]
        },
        {
          "output_type": "stream",
          "name": "stderr",
          "text": [
            "100%|██████████| 116/116 [00:17<00:00,  6.64it/s]\n",
            "100%|██████████| 27/27 [00:04<00:00,  6.06it/s]\n"
          ]
        },
        {
          "output_type": "stream",
          "name": "stdout",
          "text": [
            "Epoch 22, Loss: 0.01720655174164092, Accuracy: 0.6451873820436775, Val Accuracy: 0.4386574074074074\n"
          ]
        },
        {
          "output_type": "stream",
          "name": "stderr",
          "text": [
            "100%|██████████| 116/116 [00:17<00:00,  6.65it/s]\n",
            "100%|██████████| 27/27 [00:04<00:00,  6.00it/s]\n"
          ]
        },
        {
          "output_type": "stream",
          "name": "stdout",
          "text": [
            "Epoch 23, Loss: 0.015885739249018333, Accuracy: 0.6779455378808305, Val Accuracy: 0.4988425925925926\n"
          ]
        },
        {
          "output_type": "stream",
          "name": "stderr",
          "text": [
            "100%|██████████| 116/116 [00:17<00:00,  6.66it/s]\n",
            "100%|██████████| 27/27 [00:04<00:00,  6.15it/s]\n"
          ]
        },
        {
          "output_type": "stream",
          "name": "stdout",
          "text": [
            "Epoch 24, Loss: 0.015043608573094376, Accuracy: 0.6942572121865732, Val Accuracy: 0.5173611111111112\n"
          ]
        },
        {
          "output_type": "stream",
          "name": "stderr",
          "text": [
            "100%|██████████| 116/116 [00:17<00:00,  6.63it/s]\n",
            "100%|██████████| 27/27 [00:04<00:00,  6.09it/s]\n"
          ]
        },
        {
          "output_type": "stream",
          "name": "stdout",
          "text": [
            "Epoch 25, Loss: 0.014439570105085479, Accuracy: 0.7008627662442707, Val Accuracy: 0.5023148148148148\n"
          ]
        },
        {
          "output_type": "stream",
          "name": "stderr",
          "text": [
            "100%|██████████| 116/116 [00:17<00:00,  6.62it/s]\n",
            "100%|██████████| 27/27 [00:04<00:00,  6.02it/s]\n"
          ]
        },
        {
          "output_type": "stream",
          "name": "stdout",
          "text": [
            "Epoch 26, Loss: 0.013242719323849158, Accuracy: 0.728363440280399, Val Accuracy: 0.5428240740740741\n"
          ]
        },
        {
          "output_type": "stream",
          "name": "stderr",
          "text": [
            "100%|██████████| 116/116 [00:17<00:00,  6.61it/s]\n",
            "100%|██████████| 27/27 [00:04<00:00,  6.25it/s]\n"
          ]
        },
        {
          "output_type": "stream",
          "name": "stdout",
          "text": [
            "Epoch 27, Loss: 0.012524047801680371, Accuracy: 0.7409005122674576, Val Accuracy: 0.5271990740740741\n"
          ]
        },
        {
          "output_type": "stream",
          "name": "stderr",
          "text": [
            "100%|██████████| 116/116 [00:17<00:00,  6.64it/s]\n",
            "100%|██████████| 27/27 [00:04<00:00,  6.21it/s]\n"
          ]
        },
        {
          "output_type": "stream",
          "name": "stdout",
          "text": [
            "Epoch 28, Loss: 0.011114834963745041, Accuracy: 0.7723105958479375, Val Accuracy: 0.5758101851851852\n"
          ]
        },
        {
          "output_type": "stream",
          "name": "stderr",
          "text": [
            "100%|██████████| 116/116 [00:17<00:00,  6.61it/s]\n",
            "100%|██████████| 27/27 [00:04<00:00,  5.92it/s]\n"
          ]
        },
        {
          "output_type": "stream",
          "name": "stdout",
          "text": [
            "Epoch 29, Loss: 0.010571356152678218, Accuracy: 0.7861957400916689, Val Accuracy: 0.5196759259259259\n"
          ]
        },
        {
          "output_type": "stream",
          "name": "stderr",
          "text": [
            "100%|██████████| 116/116 [00:17<00:00,  6.53it/s]\n",
            "100%|██████████| 27/27 [00:04<00:00,  6.20it/s]\n"
          ]
        },
        {
          "output_type": "stream",
          "name": "stdout",
          "text": [
            "Epoch 30, Loss: 0.009625185754106964, Accuracy: 0.7988676193043948, Val Accuracy: 0.5497685185185185\n"
          ]
        },
        {
          "output_type": "stream",
          "name": "stderr",
          "text": [
            "100%|██████████| 116/116 [00:17<00:00,  6.61it/s]\n",
            "100%|██████████| 27/27 [00:04<00:00,  6.24it/s]\n"
          ]
        },
        {
          "output_type": "stream",
          "name": "stdout",
          "text": [
            "Epoch 31, Loss: 0.01000244611757211, Accuracy: 0.7972499325963872, Val Accuracy: 0.4664351851851852\n"
          ]
        },
        {
          "output_type": "stream",
          "name": "stderr",
          "text": [
            "100%|██████████| 116/116 [00:17<00:00,  6.59it/s]\n",
            "100%|██████████| 27/27 [00:04<00:00,  6.01it/s]\n"
          ]
        },
        {
          "output_type": "stream",
          "name": "stdout",
          "text": [
            "Epoch 32, Loss: 0.008509181353498835, Accuracy: 0.8234025343758425, Val Accuracy: 0.5555555555555556\n"
          ]
        },
        {
          "output_type": "stream",
          "name": "stderr",
          "text": [
            "100%|██████████| 116/116 [00:17<00:00,  6.64it/s]\n",
            "100%|██████████| 27/27 [00:04<00:00,  6.11it/s]\n"
          ]
        },
        {
          "output_type": "stream",
          "name": "stdout",
          "text": [
            "Epoch 33, Loss: 0.00785897888321541, Accuracy: 0.8383661364249124, Val Accuracy: 0.5804398148148148\n"
          ]
        },
        {
          "output_type": "stream",
          "name": "stderr",
          "text": [
            "100%|██████████| 116/116 [00:17<00:00,  6.57it/s]\n",
            "100%|██████████| 27/27 [00:04<00:00,  6.07it/s]\n"
          ]
        },
        {
          "output_type": "stream",
          "name": "stdout",
          "text": [
            "Epoch 34, Loss: 0.006773228265182385, Accuracy: 0.8619574009166892, Val Accuracy: 0.5549768518518519\n"
          ]
        },
        {
          "output_type": "stream",
          "name": "stderr",
          "text": [
            "100%|██████████| 116/116 [00:17<00:00,  6.59it/s]\n",
            "100%|██████████| 27/27 [00:04<00:00,  5.99it/s]\n"
          ]
        },
        {
          "output_type": "stream",
          "name": "stdout",
          "text": [
            "Epoch 35, Loss: 0.0068762367764519505, Accuracy: 0.8585872202750068, Val Accuracy: 0.5804398148148148\n"
          ]
        },
        {
          "output_type": "stream",
          "name": "stderr",
          "text": [
            "100%|██████████| 116/116 [00:17<00:00,  6.62it/s]\n",
            "100%|██████████| 27/27 [00:04<00:00,  5.94it/s]\n"
          ]
        },
        {
          "output_type": "stream",
          "name": "stdout",
          "text": [
            "Epoch 36, Loss: 0.006210844223552009, Accuracy: 0.8722027500674037, Val Accuracy: 0.5329861111111112\n"
          ]
        },
        {
          "output_type": "stream",
          "name": "stderr",
          "text": [
            "100%|██████████| 116/116 [00:17<00:00,  6.55it/s]\n",
            "100%|██████████| 27/27 [00:04<00:00,  6.12it/s]\n"
          ]
        },
        {
          "output_type": "stream",
          "name": "stdout",
          "text": [
            "Epoch 37, Loss: 0.005352451473305765, Accuracy: 0.8893232677271502, Val Accuracy: 0.5787037037037037\n"
          ]
        },
        {
          "output_type": "stream",
          "name": "stderr",
          "text": [
            "100%|██████████| 116/116 [00:17<00:00,  6.63it/s]\n",
            "100%|██████████| 27/27 [00:04<00:00,  6.15it/s]\n"
          ]
        },
        {
          "output_type": "stream",
          "name": "stdout",
          "text": [
            "Epoch 38, Loss: 0.004342474824786347, Accuracy: 0.9133189538959289, Val Accuracy: 0.5694444444444444\n"
          ]
        },
        {
          "output_type": "stream",
          "name": "stderr",
          "text": [
            "100%|██████████| 116/116 [00:17<00:00,  6.56it/s]\n",
            "100%|██████████| 27/27 [00:04<00:00,  5.92it/s]\n"
          ]
        },
        {
          "output_type": "stream",
          "name": "stdout",
          "text": [
            "Epoch 39, Loss: 0.0055781485194962566, Accuracy: 0.8854138581827986, Val Accuracy: 0.5729166666666666\n"
          ]
        },
        {
          "output_type": "stream",
          "name": "stderr",
          "text": [
            "100%|██████████| 116/116 [00:17<00:00,  6.62it/s]\n",
            "100%|██████████| 27/27 [00:04<00:00,  6.21it/s]\n"
          ]
        },
        {
          "output_type": "stream",
          "name": "stdout",
          "text": [
            "Epoch 40, Loss: 0.0042250351234567425, Accuracy: 0.9149366406039364, Val Accuracy: 0.5729166666666666\n"
          ]
        },
        {
          "output_type": "stream",
          "name": "stderr",
          "text": [
            "100%|██████████| 116/116 [00:17<00:00,  6.62it/s]\n",
            "100%|██████████| 27/27 [00:04<00:00,  6.22it/s]\n"
          ]
        },
        {
          "output_type": "stream",
          "name": "stdout",
          "text": [
            "Epoch 41, Loss: 0.003371131839167882, Accuracy: 0.9324615799406848, Val Accuracy: 0.6035879629629629\n"
          ]
        },
        {
          "output_type": "stream",
          "name": "stderr",
          "text": [
            "100%|██████████| 116/116 [00:17<00:00,  6.58it/s]\n",
            "100%|██████████| 27/27 [00:04<00:00,  5.96it/s]\n"
          ]
        },
        {
          "output_type": "stream",
          "name": "stdout",
          "text": [
            "Epoch 42, Loss: 0.0030360540988294865, Accuracy: 0.9369102183877056, Val Accuracy: 0.6296296296296297\n"
          ]
        },
        {
          "output_type": "stream",
          "name": "stderr",
          "text": [
            "100%|██████████| 116/116 [00:17<00:00,  6.55it/s]\n",
            "100%|██████████| 27/27 [00:04<00:00,  6.20it/s]\n"
          ]
        },
        {
          "output_type": "stream",
          "name": "stdout",
          "text": [
            "Epoch 43, Loss: 0.0025506539023703533, Accuracy: 0.9503909409544351, Val Accuracy: 0.6035879629629629\n"
          ]
        },
        {
          "output_type": "stream",
          "name": "stderr",
          "text": [
            "100%|██████████| 116/116 [00:17<00:00,  6.60it/s]\n",
            "100%|██████████| 27/27 [00:04<00:00,  6.08it/s]\n"
          ]
        },
        {
          "output_type": "stream",
          "name": "stdout",
          "text": [
            "Epoch 44, Loss: 0.002508702447116134, Accuracy: 0.9491776759234295, Val Accuracy: 0.5960648148148148\n"
          ]
        },
        {
          "output_type": "stream",
          "name": "stderr",
          "text": [
            "100%|██████████| 116/116 [00:17<00:00,  6.66it/s]\n",
            "100%|██████████| 27/27 [00:04<00:00,  6.13it/s]\n"
          ]
        },
        {
          "output_type": "stream",
          "name": "stdout",
          "text": [
            "Epoch 45, Loss: 0.002811984289121149, Accuracy: 0.9451334591534106, Val Accuracy: 0.5978009259259259\n"
          ]
        },
        {
          "output_type": "stream",
          "name": "stderr",
          "text": [
            "100%|██████████| 116/116 [00:17<00:00,  6.62it/s]\n",
            "100%|██████████| 27/27 [00:04<00:00,  6.02it/s]\n"
          ]
        },
        {
          "output_type": "stream",
          "name": "stdout",
          "text": [
            "Epoch 46, Loss: 0.0027275373800146707, Accuracy: 0.9444594230250741, Val Accuracy: 0.5625\n"
          ]
        },
        {
          "output_type": "stream",
          "name": "stderr",
          "text": [
            "100%|██████████| 116/116 [00:17<00:00,  6.59it/s]\n",
            "100%|██████████| 27/27 [00:04<00:00,  6.25it/s]\n"
          ]
        },
        {
          "output_type": "stream",
          "name": "stdout",
          "text": [
            "Epoch 47, Loss: 0.0024230491157031567, Accuracy: 0.9543003504987867, Val Accuracy: 0.6012731481481481\n"
          ]
        },
        {
          "output_type": "stream",
          "name": "stderr",
          "text": [
            "100%|██████████| 116/116 [00:17<00:00,  6.58it/s]\n",
            "100%|██████████| 27/27 [00:04<00:00,  6.24it/s]\n"
          ]
        },
        {
          "output_type": "stream",
          "name": "stdout",
          "text": [
            "Epoch 48, Loss: 0.0026802969576696016, Accuracy: 0.9439201941224049, Val Accuracy: 0.6047453703703703\n"
          ]
        },
        {
          "output_type": "stream",
          "name": "stderr",
          "text": [
            "100%|██████████| 116/116 [00:17<00:00,  6.59it/s]\n",
            "100%|██████████| 27/27 [00:04<00:00,  5.91it/s]\n"
          ]
        },
        {
          "output_type": "stream",
          "name": "stdout",
          "text": [
            "Epoch 49, Loss: 0.0027803314197381635, Accuracy: 0.9448638447020761, Val Accuracy: 0.6215277777777778\n"
          ]
        },
        {
          "output_type": "stream",
          "name": "stderr",
          "text": [
            "100%|██████████| 116/116 [00:17<00:00,  6.49it/s]\n",
            "100%|██████████| 27/27 [00:04<00:00,  6.09it/s]"
          ]
        },
        {
          "output_type": "stream",
          "name": "stdout",
          "text": [
            "Epoch 50, Loss: 0.0021194459164370003, Accuracy: 0.9561876516581289, Val Accuracy: 0.6313657407407407\n"
          ]
        },
        {
          "output_type": "stream",
          "name": "stderr",
          "text": [
            "\n"
          ]
        }
      ],
      "source": [
        "\n",
        "num_epochs = 50\n",
        "device = torch.device(\"cuda\" if torch.cuda.is_available() else \"cpu\")\n",
        "net1 = Net()\n",
        "#optimizer = optim.Adam(net1.parameters(), lr=0.001)\n",
        "optimizer = torch.optim.SGD(net1.parameters(), lr=0.01, momentum=0.9)\n",
        "train(trainloader, testloader, net1, optimizer, device, num_epochs)"
      ]
    },
    {
      "cell_type": "code",
      "source": [
        "import torch\n",
        "import matplotlib.pyplot as plt\n",
        "import seaborn as sns\n",
        "from sklearn.metrics import confusion_matrix\n",
        "import numpy as np\n",
        "from sklearn.preprocessing import LabelEncoder\n",
        "\n",
        "\n",
        "true_labels = []\n",
        "predicted_labels = []\n",
        "\n",
        "with torch.no_grad():\n",
        "    for images, labels in testloader:\n",
        "        images = images.to(device)\n",
        "        labels = labels.to(device)\n",
        "        outputs = net1(images)\n",
        "        _, predicted = torch.max(outputs.data, 1)\n",
        "        predicted_labels.extend(predicted.cpu().numpy())\n",
        "        true_labels.extend(labels.cpu().numpy())\n",
        "\n",
        "class_names = testset.classes\n",
        "\n",
        "label_encoder = LabelEncoder()\n",
        "true_labels_encoded = label_encoder.fit_transform(true_labels)\n",
        "predicted_labels_encoded = label_encoder.transform(predicted_labels)\n",
        "\n",
        "cm = confusion_matrix(true_labels_encoded, predicted_labels_encoded)\n",
        "\n",
        "def plot_confusion_matrix(cm, class_names):\n",
        "    plt.figure(figsize=(10, 7))\n",
        "    sns.heatmap(cm, annot=True, fmt=\"d\", cmap=\"Blues\", xticklabels=class_names, yticklabels=class_names)\n",
        "    plt.xlabel('Predicted Labels')\n",
        "    plt.ylabel('True Labels')\n",
        "    plt.title('Confusion Matrix')\n",
        "    plt.show()\n",
        "\n",
        "plot_confusion_matrix(cm, class_names)\n",
        "\n",
        "right = np.trace(cm)\n",
        "other = np.sum(cm)\n",
        "acc = right / other\n",
        "print(\"Accuracy:\", acc)\n"
      ],
      "metadata": {
        "colab": {
          "base_uri": "https://localhost:8080/",
          "height": 826
        },
        "id": "wRlXWiTcpAHM",
        "outputId": "08e52d31-5eb1-429e-b53c-17f99634a83b"
      },
      "id": "wRlXWiTcpAHM",
      "execution_count": 6,
      "outputs": [
        {
          "output_type": "stream",
          "name": "stderr",
          "text": [
            "/usr/lib/python3.10/multiprocessing/popen_fork.py:66: RuntimeWarning: os.fork() was called. os.fork() is incompatible with multithreaded code, and JAX is multithreaded, so this will likely lead to a deadlock.\n",
            "  self.pid = os.fork()\n"
          ]
        },
        {
          "output_type": "display_data",
          "data": {
            "text/plain": [
              "<Figure size 1000x700 with 2 Axes>"
            ],
            "image/png": "[encoded data removed]"
          },
          "metadata": {}
        },
        {
          "output_type": "stream",
          "name": "stdout",
          "text": [
            "Accuracy: 0.6313657407407407\n"
          ]
        }
      ]
    },
    {
      "cell_type": "markdown",
      "source": [
        "Original Model before attention"
      ],
      "metadata": {
        "id": "6DK5rKZ24Vwv"
      },
      "id": "6DK5rKZ24Vwv"
    },
    {
      "cell_type": "code",
      "source": [
        "def vgg_block(num_convs, in_channels, num_channels):\n",
        "    layers = []\n",
        "    for _ in range(num_convs):\n",
        "        layers += [nn.Conv2d(in_channels=in_channels, out_channels=num_channels, kernel_size=3, padding=1)]\n",
        "        in_channels = num_channels\n",
        "    layers += [nn.BatchNorm2d(num_channels), nn.ReLU(), nn.MaxPool2d(kernel_size=2, stride=2)]\n",
        "    return nn.Sequential(*layers)\n",
        "\n",
        "class Net(nn.Module):\n",
        "    def __init__(self):\n",
        "        super(Net, self).__init__()\n",
        "        self.conv_arch = ((2, 3, 64), (2, 64, 128), (2, 128, 256), (3, 256, 512), (3, 512, 512))\n",
        "        layers = []\n",
        "        for (num_convs, in_channels, num_channels) in self.conv_arch:\n",
        "            layers += [vgg_block(num_convs, in_channels, num_channels)]\n",
        "        self.features = nn.Sequential(*layers)\n",
        "        self.dense1 = nn.Linear(512 * 7 * 7, 4096)\n",
        "\n",
        "\n",
        "\n",
        "        self.drop1 = nn.Dropout(0.3)\n",
        "        self.dense2 = nn.Linear(4096, 4096)\n",
        "        self.drop2 = nn.Dropout(0.5)\n",
        "        self.dense3 = nn.Linear(4096, 15)  # Change the number to match the number of your classes\n",
        "\n",
        "    def forward(self, x):\n",
        "        x = self.features(x)\n",
        "        x = x.view(-1, 512 * 7 * 7)\n",
        "        x = self.dense3(self.drop2(F.relu(self.dense2(self.drop1(F.relu(self.dense1(x)))))))\n",
        "        return x\n",
        "\n",
        "def train(train_iter, test_iter, net, optimizer, device, num_epochs):\n",
        "    net.to(device)\n",
        "    print(\"training on\", device)\n",
        "    loss = nn.CrossEntropyLoss()\n",
        "    best_val_loss = float('inf')\n",
        "    patience_counter = 0\n",
        "\n",
        "    for epoch in range(num_epochs):\n",
        "        net.train()\n",
        "        train_l_sum, train_acc_sum, n = 0.0, 0.0, 0\n",
        "        for X, y in tqdm(train_iter):\n",
        "            X, y = X.to(device), y.to(device)\n",
        "            y_hat = net(X)\n",
        "            l = loss(y_hat, y)\n",
        "            optimizer.zero_grad()\n",
        "            l.backward()\n",
        "            optimizer.step()\n",
        "\n",
        "            train_l_sum += l.cpu().item()\n",
        "            train_acc_sum += (y_hat.argmax(dim=1) == y).sum().cpu().item()\n",
        "            n += y.shape[0]\n",
        "\n",
        "        train_loss = train_l_sum / n\n",
        "        train_accuracy = train_acc_sum / n\n",
        "\n",
        "\n",
        "        val_accuracy = evaluate_accuracy(test_iter, net, device)\n",
        "        print(f'Epoch {epoch + 1}, Loss: {train_loss}, Accuracy: {train_accuracy}, Val Accuracy: {val_accuracy}')\n",
        "\n",
        "\n",
        "\n",
        "def evaluate_accuracy(data_iter, net, device):\n",
        "    net.eval()\n",
        "    acc_sum, n = 0.0, 0\n",
        "    with torch.no_grad():\n",
        "        for X, y in data_iter:\n",
        "            X, y = X.to(device), y.to(device)\n",
        "            acc_sum += (net(X).argmax(dim=1) == y).float().sum().item()\n",
        "            n += y.shape[0]\n",
        "    return acc_sum / n"
      ],
      "metadata": {
        "id": "klDUjy6imNJ8"
      },
      "id": "klDUjy6imNJ8",
      "execution_count": 9,
      "outputs": []
    },
    {
      "cell_type": "code",
      "source": [
        "num_epochs = 28\n",
        "device = torch.device(\"cuda\" if torch.cuda.is_available() else \"cpu\")\n",
        "net1 = Net()\n",
        "#optimizer = optim.Adam(net1.parameters(), lr=0.001)\n",
        "optimizer = torch.optim.SGD(net1.parameters(), lr=0.001, momentum=0.9)\n",
        "train(trainloader, testloader, net1, optimizer, device, num_epochs)"
      ],
      "metadata": {
        "colab": {
          "base_uri": "https://localhost:8080/"
        },
        "id": "IjwAYJRD4fN_",
        "outputId": "0ff3cef2-c763-436f-ca99-9e286d434caf"
      },
      "id": "IjwAYJRD4fN_",
      "execution_count": 31,
      "outputs": [
        {
          "output_type": "stream",
          "name": "stdout",
          "text": [
            "training on cuda\n"
          ]
        },
        {
          "output_type": "stream",
          "name": "stderr",
          "text": [
            "\r  0%|          | 0/116 [00:00<?, ?it/s]/usr/lib/python3.10/multiprocessing/popen_fork.py:66: RuntimeWarning: os.fork() was called. os.fork() is incompatible with multithreaded code, and JAX is multithreaded, so this will likely lead to a deadlock.\n",
            "  self.pid = os.fork()\n",
            "100%|██████████| 116/116 [00:17<00:00,  6.57it/s]\n"
          ]
        },
        {
          "output_type": "stream",
          "name": "stdout",
          "text": [
            "Epoch 1, Loss: 0.03819495428280227, Accuracy: 0.21110811539498517, Val Accuracy: 0.31712962962962965\n"
          ]
        },
        {
          "output_type": "stream",
          "name": "stderr",
          "text": [
            "100%|██████████| 116/116 [00:17<00:00,  6.53it/s]\n"
          ]
        },
        {
          "output_type": "stream",
          "name": "stdout",
          "text": [
            "Epoch 2, Loss: 0.032970599791983704, Accuracy: 0.3282555944998652, Val Accuracy: 0.3570601851851852\n"
          ]
        },
        {
          "output_type": "stream",
          "name": "stderr",
          "text": [
            "100%|██████████| 116/116 [00:17<00:00,  6.53it/s]\n"
          ]
        },
        {
          "output_type": "stream",
          "name": "stdout",
          "text": [
            "Epoch 3, Loss: 0.030152340724674574, Accuracy: 0.3820436775411162, Val Accuracy: 0.37962962962962965\n"
          ]
        },
        {
          "output_type": "stream",
          "name": "stderr",
          "text": [
            "100%|██████████| 116/116 [00:17<00:00,  6.56it/s]\n"
          ]
        },
        {
          "output_type": "stream",
          "name": "stdout",
          "text": [
            "Epoch 4, Loss: 0.027737383172016447, Accuracy: 0.43717983283904016, Val Accuracy: 0.3993055555555556\n"
          ]
        },
        {
          "output_type": "stream",
          "name": "stderr",
          "text": [
            "100%|██████████| 116/116 [00:17<00:00,  6.59it/s]\n"
          ]
        },
        {
          "output_type": "stream",
          "name": "stdout",
          "text": [
            "Epoch 5, Loss: 0.025579629110885006, Accuracy: 0.4780264222162308, Val Accuracy: 0.4722222222222222\n"
          ]
        },
        {
          "output_type": "stream",
          "name": "stderr",
          "text": [
            "100%|██████████| 116/116 [00:17<00:00,  6.45it/s]\n"
          ]
        },
        {
          "output_type": "stream",
          "name": "stdout",
          "text": [
            "Epoch 6, Loss: 0.023492191496098516, Accuracy: 0.5296575896468051, Val Accuracy: 0.4525462962962963\n"
          ]
        },
        {
          "output_type": "stream",
          "name": "stderr",
          "text": [
            "100%|██████████| 116/116 [00:17<00:00,  6.52it/s]\n"
          ]
        },
        {
          "output_type": "stream",
          "name": "stdout",
          "text": [
            "Epoch 7, Loss: 0.021562600656480087, Accuracy: 0.5718522512806686, Val Accuracy: 0.5104166666666666\n"
          ]
        },
        {
          "output_type": "stream",
          "name": "stderr",
          "text": [
            "100%|██████████| 116/116 [00:17<00:00,  6.49it/s]\n"
          ]
        },
        {
          "output_type": "stream",
          "name": "stdout",
          "text": [
            "Epoch 8, Loss: 0.019551807937676066, Accuracy: 0.610272310595848, Val Accuracy: 0.45891203703703703\n"
          ]
        },
        {
          "output_type": "stream",
          "name": "stderr",
          "text": [
            "100%|██████████| 116/116 [00:17<00:00,  6.58it/s]\n"
          ]
        },
        {
          "output_type": "stream",
          "name": "stdout",
          "text": [
            "Epoch 9, Loss: 0.017855933989177467, Accuracy: 0.6418172014019952, Val Accuracy: 0.5428240740740741\n"
          ]
        },
        {
          "output_type": "stream",
          "name": "stderr",
          "text": [
            "100%|██████████| 116/116 [00:17<00:00,  6.50it/s]\n"
          ]
        },
        {
          "output_type": "stream",
          "name": "stdout",
          "text": [
            "Epoch 10, Loss: 0.015110322369433824, Accuracy: 0.6976273928282556, Val Accuracy: 0.5422453703703703\n"
          ]
        },
        {
          "output_type": "stream",
          "name": "stderr",
          "text": [
            "100%|██████████| 116/116 [00:17<00:00,  6.51it/s]\n"
          ]
        },
        {
          "output_type": "stream",
          "name": "stdout",
          "text": [
            "Epoch 11, Loss: 0.013245725871160944, Accuracy: 0.7342949582097601, Val Accuracy: 0.5810185185185185\n"
          ]
        },
        {
          "output_type": "stream",
          "name": "stderr",
          "text": [
            "100%|██████████| 116/116 [00:17<00:00,  6.45it/s]\n"
          ]
        },
        {
          "output_type": "stream",
          "name": "stdout",
          "text": [
            "Epoch 12, Loss: 0.010957607986889106, Accuracy: 0.7860609328660016, Val Accuracy: 0.5601851851851852\n"
          ]
        },
        {
          "output_type": "stream",
          "name": "stderr",
          "text": [
            "100%|██████████| 116/116 [00:17<00:00,  6.53it/s]\n"
          ]
        },
        {
          "output_type": "stream",
          "name": "stdout",
          "text": [
            "Epoch 13, Loss: 0.008640808464864348, Accuracy: 0.8296036667565382, Val Accuracy: 0.6140046296296297\n"
          ]
        },
        {
          "output_type": "stream",
          "name": "stderr",
          "text": [
            "100%|██████████| 116/116 [00:17<00:00,  6.50it/s]\n"
          ]
        },
        {
          "output_type": "stream",
          "name": "stdout",
          "text": [
            "Epoch 14, Loss: 0.007162119017099878, Accuracy: 0.8571043407926665, Val Accuracy: 0.5943287037037037\n"
          ]
        },
        {
          "output_type": "stream",
          "name": "stderr",
          "text": [
            "100%|██████████| 116/116 [00:17<00:00,  6.54it/s]\n"
          ]
        },
        {
          "output_type": "stream",
          "name": "stdout",
          "text": [
            "Epoch 15, Loss: 0.005090379408023595, Accuracy: 0.9044216770018872, Val Accuracy: 0.6354166666666666\n"
          ]
        },
        {
          "output_type": "stream",
          "name": "stderr",
          "text": [
            "100%|██████████| 116/116 [00:17<00:00,  6.56it/s]\n"
          ]
        },
        {
          "output_type": "stream",
          "name": "stdout",
          "text": [
            "Epoch 16, Loss: 0.003974517572838909, Accuracy: 0.9277433270423294, Val Accuracy: 0.6296296296296297\n"
          ]
        },
        {
          "output_type": "stream",
          "name": "stderr",
          "text": [
            "100%|██████████| 116/116 [00:17<00:00,  6.45it/s]\n"
          ]
        },
        {
          "output_type": "stream",
          "name": "stdout",
          "text": [
            "Epoch 17, Loss: 0.0030923450898492585, Accuracy: 0.9423025074143974, Val Accuracy: 0.6608796296296297\n"
          ]
        },
        {
          "output_type": "stream",
          "name": "stderr",
          "text": [
            "100%|██████████| 116/116 [00:18<00:00,  6.44it/s]\n"
          ]
        },
        {
          "output_type": "stream",
          "name": "stdout",
          "text": [
            "Epoch 18, Loss: 0.0021108807300373885, Accuracy: 0.9634672418441629, Val Accuracy: 0.6510416666666666\n"
          ]
        },
        {
          "output_type": "stream",
          "name": "stderr",
          "text": [
            "100%|██████████| 116/116 [00:17<00:00,  6.55it/s]\n"
          ]
        },
        {
          "output_type": "stream",
          "name": "stdout",
          "text": [
            "Epoch 19, Loss: 0.0016302516805467564, Accuracy: 0.9746562415745484, Val Accuracy: 0.6533564814814815\n"
          ]
        },
        {
          "output_type": "stream",
          "name": "stderr",
          "text": [
            "100%|██████████| 116/116 [00:17<00:00,  6.50it/s]\n"
          ]
        },
        {
          "output_type": "stream",
          "name": "stdout",
          "text": [
            "Epoch 20, Loss: 0.0008566308777651783, Accuracy: 0.9902938797519547, Val Accuracy: 0.6695601851851852\n"
          ]
        },
        {
          "output_type": "stream",
          "name": "stderr",
          "text": [
            "100%|██████████| 116/116 [00:18<00:00,  6.43it/s]\n"
          ]
        },
        {
          "output_type": "stream",
          "name": "stdout",
          "text": [
            "Epoch 21, Loss: 0.0006068424648389594, Accuracy: 0.9929900242653006, Val Accuracy: 0.6915509259259259\n"
          ]
        },
        {
          "output_type": "stream",
          "name": "stderr",
          "text": [
            "100%|██████████| 116/116 [00:17<00:00,  6.47it/s]\n"
          ]
        },
        {
          "output_type": "stream",
          "name": "stdout",
          "text": [
            "Epoch 22, Loss: 0.000370454534548783, Accuracy: 0.9966298193583176, Val Accuracy: 0.6967592592592593\n"
          ]
        },
        {
          "output_type": "stream",
          "name": "stderr",
          "text": [
            "100%|██████████| 116/116 [00:17<00:00,  6.52it/s]\n"
          ]
        },
        {
          "output_type": "stream",
          "name": "stdout",
          "text": [
            "Epoch 23, Loss: 0.00046209175148202936, Accuracy: 0.9943380965219736, Val Accuracy: 0.6510416666666666\n"
          ]
        },
        {
          "output_type": "stream",
          "name": "stderr",
          "text": [
            "100%|██████████| 116/116 [00:17<00:00,  6.52it/s]\n"
          ]
        },
        {
          "output_type": "stream",
          "name": "stdout",
          "text": [
            "Epoch 24, Loss: 0.0004334091422936246, Accuracy: 0.9950121326503101, Val Accuracy: 0.6765046296296297\n"
          ]
        },
        {
          "output_type": "stream",
          "name": "stderr",
          "text": [
            "100%|██████████| 116/116 [00:18<00:00,  6.36it/s]\n"
          ]
        },
        {
          "output_type": "stream",
          "name": "stdout",
          "text": [
            "Epoch 25, Loss: 0.0003155542795698769, Accuracy: 0.9974386627123214, Val Accuracy: 0.7071759259259259\n"
          ]
        },
        {
          "output_type": "stream",
          "name": "stderr",
          "text": [
            "100%|██████████| 116/116 [00:17<00:00,  6.53it/s]\n"
          ]
        },
        {
          "output_type": "stream",
          "name": "stdout",
          "text": [
            "Epoch 26, Loss: 0.0001466774175985121, Accuracy: 0.999056349420329, Val Accuracy: 0.7135416666666666\n"
          ]
        },
        {
          "output_type": "stream",
          "name": "stderr",
          "text": [
            "100%|██████████| 116/116 [00:17<00:00,  6.58it/s]\n"
          ]
        },
        {
          "output_type": "stream",
          "name": "stdout",
          "text": [
            "Epoch 27, Loss: 0.0001108286450080921, Accuracy: 0.9997303855486654, Val Accuracy: 0.7129629629629629\n"
          ]
        },
        {
          "output_type": "stream",
          "name": "stderr",
          "text": [
            "100%|██████████| 116/116 [00:17<00:00,  6.48it/s]\n"
          ]
        },
        {
          "output_type": "stream",
          "name": "stdout",
          "text": [
            "Epoch 28, Loss: 0.00010809899583932472, Accuracy: 0.9991911566459962, Val Accuracy: 0.7106481481481481\n"
          ]
        }
      ]
    },
    {
      "cell_type": "code",
      "source": [
        "import torch\n",
        "import matplotlib.pyplot as plt\n",
        "import seaborn as sns\n",
        "from sklearn.metrics import confusion_matrix\n",
        "import numpy as np\n",
        "from sklearn.preprocessing import LabelEncoder\n",
        "\n",
        "\n",
        "true_labels = []\n",
        "predicted_labels = []\n",
        "\n",
        "with torch.no_grad():\n",
        "    for images, labels in testloader:\n",
        "        images = images.to(device)\n",
        "        labels = labels.to(device)\n",
        "        outputs = net1(images)\n",
        "        _, predicted = torch.max(outputs.data, 1)\n",
        "        predicted_labels.extend(predicted.cpu().numpy())\n",
        "        true_labels.extend(labels.cpu().numpy())\n",
        "\n",
        "class_names = testset.classes\n",
        "\n",
        "label_encoder = LabelEncoder()\n",
        "true_labels_encoded = label_encoder.fit_transform(true_labels)\n",
        "predicted_labels_encoded = label_encoder.transform(predicted_labels)\n",
        "\n",
        "cm = confusion_matrix(true_labels_encoded, predicted_labels_encoded)\n",
        "\n",
        "def plot_confusion_matrix(cm, class_names):\n",
        "    plt.figure(figsize=(10, 7))\n",
        "    sns.heatmap(cm, annot=True, fmt=\"d\", cmap=\"Blues\", xticklabels=class_names, yticklabels=class_names)\n",
        "    plt.xlabel('Predicted Labels')\n",
        "    plt.ylabel('True Labels')\n",
        "    plt.title('Confusion Matrix')\n",
        "    plt.show()\n",
        "\n",
        "plot_confusion_matrix(cm, class_names)\n",
        "\n",
        "right = np.trace(cm)\n",
        "other = np.sum(cm)\n",
        "acc = right / other\n",
        "print(\"Accuracy:\", acc)\n"
      ],
      "metadata": {
        "colab": {
          "base_uri": "https://localhost:8080/",
          "height": 770
        },
        "id": "wRJnwm97wr2c",
        "outputId": "3da68fca-40db-4d84-9366-7daf070b6d37"
      },
      "id": "wRJnwm97wr2c",
      "execution_count": 32,
      "outputs": [
        {
          "output_type": "display_data",
          "data": {
            "text/plain": [
              "<Figure size 1000x700 with 2 Axes>"
            ],
            "image/png": "[encoded data removed]"
          },
          "metadata": {}
        },
        {
          "output_type": "stream",
          "name": "stdout",
          "text": [
            "Accuracy: 0.7106481481481481\n"
          ]
        }
      ]
    }
  ],
  "metadata": {
    "accelerator": "GPU",
    "colab": {
      "gpuType": "A100",
      "machine_shape": "hm",
      "provenance": []
    },
    "kernelspec": {
      "display_name": "Python 3",
      "name": "python3"
    },
    "language_info": {
      "codemirror_mode": {
        "name": "ipython",
        "version": 3
      },
      "file_extension": ".py",
      "mimetype": "text/x-python",
      "name": "python",
      "nbconvert_exporter": "python",
      "pygments_lexer": "ipython3",
      "version": "3.10.9"
    }
  },
  "nbformat": 4,
  "nbformat_minor": 5
}